{
 "cells": [
  {
   "cell_type": "markdown",
   "metadata": {},
   "source": [
    "# Feladatok\n",
    "\n",
    "- Minden feladatot külön notebookba oldj meg! \n",
    "- A megoldásnotebook **neve** tartalmazza a feladat **számát**! \n",
    "- A megoldások kerüljenek a **MEGOLDASOK mappába**!<br> Csak azok a feladatok kerülnek elbírálásra, amelyek a MEGOLDASOK mappában vannak!\n",
    "- A megoldás tartalmazza a megoldandó **feladat szövegét** a megoldásnotebook első `markdown` cellájában! \n",
    "- **Kommentekkel**, illetve `markdown` cellákkal magyarázd, hogy éppen mit csinál az adott kódrészlet!<br> Magyarázat nélkül beküldött feladatok csak fél feladatnak számítanak!\n",
    "\n",
    "---"
   ]
  },
  {
   "cell_type": "markdown",
   "metadata": {},
   "source": [
    "## 01 - Egyszerű integrálás\n",
    "\n",
    "A quad függvény segítségével integráljuk a\n",
    "$$ f(x)=\\cos^2(4 \\arccos(x)) $$\n",
    "függvényt az [0,1] intervallumon!"
   ]
  },
  {
   "cell_type": "markdown",
   "metadata": {},
   "source": [
    "## 02 - Ferde hajítás\n",
    "\n",
    "Vizsgáljuk meg, hogy a $v_0=30~\\mathrm{m}/\\mathrm{s}$-os kezdősebességű, $\\alpha=50^\\circ$-os szögű [ferde hajítás](https://hu.wikipedia.org/wiki/Ferde_haj%C3%ADt%C3%A1s#A_mozg.C3.A1s_p.C3.A1ly.C3.A1ja_ferde_haj.C3.ADt.C3.A1sn.C3.A1l) differenciálegyenlet-rendszerének megoldása ugyanazt a pályát adja-e, mint az analitikus megoldás! Ábrázoljuk a numerikus és az egzakt megoldást ugyanazon koordinátarendszerben!\n",
    "\n",
    "Segítségül:\n",
    "\n",
    "\\begin{align}\n",
    "\\ddot{x}&=0&\\dot{x}_0&=v_0\\cdot \\cos\\alpha &x_0&=0\\\\\n",
    "\\ddot{y}&=-g& \\dot{y}_0&=v_0\\cdot \\sin\\alpha & y_0&=0\n",
    "\\end{align}"
   ]
  },
  {
   "cell_type": "markdown",
   "metadata": {},
   "source": [
    "## 03 - Kepler-probléma\n",
    "\n",
    "A bolygómozgás Hamilton-függvénye a következőképpen néz ki:\n",
    "\n",
    "$$\\mathscr{H}(p_x,p_y,x,y)=K+V=\\frac{1}{2m}(p_x^2+p_y^2)-\\gamma M \\frac{m}{\\sqrt{x^2+y^2}}$$\n",
    "\n",
    "Legyen most az alternatív naprendszerünkben $M=\\gamma=m=1$!\n",
    "\n",
    "Rajzoljuk fel a bolygó pályáját a kanonikus egyeneletek numerikus megoldásának segítségével:\n",
    "\n",
    "\\begin{align}\n",
    "\\dot{p_x}&=-\\frac{\\partial \\mathscr{H}}{\\partial{x}} & p_{x,0}&=0\\\\\\\\\n",
    "\\dot{p_y}&=\\frac{\\partial \\mathscr{H}}{\\partial{y}} & p_{y,0}&=\\frac{1}{\\sqrt{10}}\\\\\n",
    "\\dot{x}&=p_x & x_0&=4\\\\\n",
    "\\dot{y}&=p_y & y_0&=0\\\\\n",
    "\\end{align}\n",
    "\n",
    "Milyen alakú pályát kaptunk?"
   ]
  },
  {
   "cell_type": "markdown",
   "metadata": {},
   "source": [
    "## 04 - Töltött részecske elektromágneses térben\n",
    "\n",
    "Adott egy egymásra merőleges homogén elektromos és mágneses tér, a térerősségek\n",
    "\n",
    "\\begin{align}\n",
    "E&=0.01~\\frac{\\mathrm{N}}{\\mathrm{C}}\\\\\n",
    "B&=1~T\n",
    "\\end{align}\n",
    "\n",
    "\n",
    "Egy elektront lövünk ebbe a térbe az elektromos erővonalakkal párhuzamosan, a mágneses térre merőlegesen. Rajzoljuk ki a differenciálegyenlet-megoldás segítségével, hogy a 3D térben milyen pályán mozog a részecske (egy jó választás pl. $t=0~\\mathrm{s}$-tól $10~\\mathrm{s}$-ig elmenni)! Ha `matplotlib`bel ábrázolsz, figyelj arra, hogy olyan szögből legyen a 3D ábra, hogy jól látszódjon a pálya alakja, `plotly`val pedig akár forgathatod is az elkészült ábrát. Magyarázzuk meg a látottakat néhány mondatban!\n",
    "\n",
    "\\begin{align}\n",
    "m\\ddot{x}&=eE & \\dot{x}_0&=0 & x_0&=0\\\\\n",
    "m\\ddot{y}&=ev_zB & \\dot{y}_0&=1 & y_0&=0\\\\\n",
    "m\\ddot{z}&=-ev_yB & \\dot{z}_0&=1 & z_0&=0\\\\\n",
    "\\end{align}"
   ]
  },
  {
   "cell_type": "markdown",
   "metadata": {},
   "source": [
    "## 05 - Rakétamozgás\n",
    "\n",
    "Modellezzünk [rakétamozgást](https://hu.wikipedia.org/wiki/Ciolkovszkij-egyenlet)!\n",
    "\n",
    "![](https://upload.wikimedia.org/wikipedia/commons/f/fc/Var_mass_system.PNG)\n",
    "\n",
    "Egy adott időpillanatban legyen a rakétánk $m$ tömegű, tegyük fel, hogy $v$ sebességgel halad. A rakéta hátulján egy kis, $\\Delta m$ tömegű darabka a rakétához képest $v_e$, az álló megfigyelőhöz képest $v-v_e$ sebességgel távozik. A lendületmegmaradás miatt az álló megfigyelő szemszögévől:\n",
    "\n",
    "$$ (m + \\Delta m)\\cdot v = m (v+\\Delta v)+\\Delta m\\cdot  (v-v_e) ,$$\n",
    "\n",
    "tehát\n",
    "\n",
    "$$ 0 = m \\Delta v - \\Delta m \\cdot v_e $$\n",
    "\n",
    "Rendezzük át:\n",
    "\n",
    "$$\\frac{\\Delta v}{\\Delta m}=-\\frac{v_e}{m}$$\n",
    "\n",
    "Tartsunk $\\Delta m$-mel a 0-hoz:\n",
    "\n",
    "$$\\frac{\\mathrm{d} v}{\\mathrm{d} m}=-\\frac{v_e}{m},$$\n",
    "\n",
    "Ábrázoljuk a rakéta sebességét a rakéta tömegének függvényében! Vegyük a rakéta össztömegét 1-nek, és tételezzük fel, hogy az össztömeg 90%-a üzemanyag, tehát maximum 0.1-ig tud a tömeg csökkenni. Legyen $v_e=10$! Értelmezzük a kapott eredményt, vessük össze az [analitikus megoldással](https://hu.wikipedia.org/wiki/Ciolkovszkij-egyenlet) (a diffegyenlet szétválasztható)!"
   ]
  },
  {
   "cell_type": "markdown",
   "metadata": {},
   "source": [
    "## 06 - Bomlási sorok ☠\n",
    "\n",
    "Egy egyszerű radioaktív bomlás differenciálegyenlete a következőképpen néz ki:\n",
    "\n",
    "$$-\\frac{\\mathrm{d}N}{\\mathrm{d}t}=\\lambda N,$$\n",
    "\n",
    "ahol $N$ az adott elem atommagjainak a száma, $\\lambda$ pedig a bomlási állandó, ami egy atommag átlagos várható élettartamának a reciproka. (Felezési idővel is kifejezhetjük, ekkor $\\lambda=\\ln 2 / T_{1/2}$.) A differenciálegyenlet tulajdonképpen annak a megfogalmazása, hogy a bomlások a magok előéletétől és egymástól függetlenül, ugyanakkora valószínűséggel következnek be.\n",
    "\n",
    "Vizsgáljunk egy egyszerű bomlási sort, melyben egy anyaelem ($1$), illetve az ő két további leányeleme ($2,3$) található! Hogyan változik ezek darabszáma az idő függvényében? Ábrázoljuk, **értelmezzük** néhány mondatban a kapott eredményt!\n",
    "\n",
    "Egyrészt az anyaelem száma folyamatosan csökken, másrészt a leányelemelet \"táplálja\" az anyaelem bomlása, mikörózben ők is tovább bomolnak:\n",
    "\n",
    "\\begin{align}\n",
    "\\frac{\\mathrm{d}N_1}{\\mathrm{d}t}&=-\\lambda_1 N_1\\\\\n",
    "\\frac{\\mathrm{d}N_2}{\\mathrm{d}t}&=\\lambda_1 N_1-\\lambda_2 N_2\\\\\n",
    "\\frac{\\mathrm{d}N_3}{\\mathrm{d}t}&=\\lambda_2 N_2 - \\lambda_3 N_3\\\\\n",
    "\\end{align}\n",
    "\n",
    "Legyen a három bomlási állandó és a kezdeti feltételek:\n",
    "\\begin{align}\n",
    "\\lambda_1&=0.5~\\frac{1}{\\mathrm{s}} & N_1(0)&=10^5\\\\\n",
    "\\lambda_2&=0.3~\\frac{1}{\\mathrm{s}} & N_2(0)&=10^4\\\\\n",
    "\\lambda_3&=2~\\frac{1}{\\mathrm{s}} & N_3(0)&=10^4\\\\\n",
    "\\end{align}"
   ]
  },
  {
   "cell_type": "markdown",
   "metadata": {},
   "source": [
    "## 07 - Ferde hajítás légellenállással ☠\n",
    "\n",
    "Számoljuk ki és ábrázoljuk, hogyan módosul a test pályája a parabolához képest, ha a ferde hajítás problémájába egy sebességnégyzettel arányos, a sebességgel éppen ellentétes irányú közegellenállási tagot is beleveszünk!"
   ]
  },
  {
   "cell_type": "markdown",
   "metadata": {},
   "source": [
    "## 08 - Animált naprendszer ☠\n",
    "\n",
    "Készíts szép animációt, amely nagyjából valós adatokkal és arányokkal megmutatja, hogyan kering a Föld a Nap körül! Próbálj meg akár két bolygót is a Nap köré tenni, teljesülni fog-e a keringési időkre vonatkozó Kepler-törvény?"
   ]
  },
  {
   "cell_type": "markdown",
   "metadata": {},
   "source": [
    "## 09 - Energia ☠\n",
    "\n",
    "A Kepler-problémában minden időponthoz számold ki a rendszer Hamilton-függvényét (energiáját). Ábrázold az idő függvényében. Mit vártál az elméletből, és mit látsz a numerikus számolás végeredményében? Vajon mi lehet az oka?"
   ]
  }
 ],
 "metadata": {
  "anaconda-cloud": {},
  "hide_input": false,
  "kernelspec": {
   "display_name": "Python [default]",
   "language": "python",
   "name": "python3"
  },
  "language_info": {
   "codemirror_mode": {
    "name": "ipython",
    "version": 3
   },
   "file_extension": ".py",
   "mimetype": "text/x-python",
   "name": "python",
   "nbconvert_exporter": "python",
   "pygments_lexer": "ipython3",
   "version": "3.5.2"
  }
 },
 "nbformat": 4,
 "nbformat_minor": 1
}
