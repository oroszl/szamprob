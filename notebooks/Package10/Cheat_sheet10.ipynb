{
 "cells": [
  {
   "cell_type": "markdown",
   "metadata": {
    "collapsed": false
   },
   "source": [
    "# Még több scipy...\n",
    "\n",
    "<h3 style='color: darkcyan'>Numerikus integrálás</h3>\n",
    "\n",
    ">```python\n",
    ">from scipy.integrate import * # az integráló rutinok betöltése\n",
    ">\n",
    ">def f(x):           # Az integrandus definiálása\n",
    ">    return sin(x)   \n",
    ">\n",
    ">quad(f,1,2)        # integráljuk f-et 1 es 2 között\n",
    ">```\n",
    "\n",
    "\n",
    "<h3 style='color: darkcyan'>Differenciálegyenletek megoldása</h3>\n",
    "\n",
    ">```python\n",
    ">from scipy.integrate import * # a megfelelő rutinok betöltése\n",
    ">\n",
    ">def novekmeny(q,t):   \n",
    ">    return -q**2          # a q'=-q^2 egyenletnek megfelelő növekmény\n",
    ">\n",
    ">\n",
    ">t=linspace(0,1,1000)     # ezek az érdekes időpillanatok\n",
    ">q0=0                     # A kezdeti érték\n",
    ">q=odeint(novekmeny,q0,t) # itt oldjuk meg a diffegyenletet\n",
    ">```"
   ]
  }
 ],
 "metadata": {
  "anaconda-cloud": {},
  "hide_input": false,
  "kernelspec": {
   "display_name": "Python [default]",
   "language": "python",
   "name": "python3"
  },
  "language_info": {
   "codemirror_mode": {
    "name": "ipython",
    "version": 3
   },
   "file_extension": ".py",
   "mimetype": "text/x-python",
   "name": "python",
   "nbconvert_exporter": "python",
   "pygments_lexer": "ipython3",
   "version": "3.5.2"
  },
  "name": "Cheat_sheat.ipynb"
 },
 "nbformat": 4,
 "nbformat_minor": 0
}
